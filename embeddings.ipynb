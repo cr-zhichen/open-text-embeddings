{
 "cells": [
  {
   "attachments": {},
   "cell_type": "markdown",
   "id": "278b6c63",
   "metadata": {},
   "source": [
    "# open-text-embeddings"
   ]
  },
  {
   "cell_type": "code",
   "id": "0be1af71",
   "metadata": {
    "ExecuteTime": {
     "end_time": "2024-08-30T07:31:22.387806Z",
     "start_time": "2024-08-30T07:31:22.330277Z"
    }
   },
   "source": [
    "from open.text.embeddings.openai import OpenAIEmbeddings\n",
    "from scipy.spatial.distance import euclidean"
   ],
   "outputs": [],
   "execution_count": 189
  },
  {
   "cell_type": "code",
   "id": "2c66e5da",
   "metadata": {
    "ExecuteTime": {
     "end_time": "2024-08-30T07:33:17.733321Z",
     "start_time": "2024-08-30T07:33:17.549312Z"
    }
   },
   "source": [
    "embeddings = OpenAIEmbeddings(\n",
    "    openai_api_base=\"http://localhost:8000/v1\",\n",
    "    openai_api_key='sk-')"
   ],
   "outputs": [],
   "execution_count": 197
  },
  {
   "cell_type": "code",
   "id": "14aefb64",
   "metadata": {
    "ExecuteTime": {
     "end_time": "2024-08-30T07:34:03.773145Z",
     "start_time": "2024-08-30T07:34:03.558779Z"
    }
   },
   "source": [
    "text1 = \"\"\"\n",
    "电烤箱可以做面包吗\n",
    "\"\"\"\n",
    "\n",
    "text2 = \"\"\"\n",
    "做面包可以用烤箱么？\n",
    "\"\"\"\n",
    "\n",
    "embedding_1 = embeddings.embed_query(text1)\n",
    "embedding_2 = embeddings.embed_query(text2)\n",
    "\n",
    "# 计算欧几里得距离\n",
    "distance = euclidean(embedding_1, embedding_2)\n",
    "\n",
    "print(f\"文本距离: {distance}\")"
   ],
   "outputs": [
    {
     "name": "stdout",
     "output_type": "stream",
     "text": [
      "文本距离: 0.31010412979261553\n"
     ]
    }
   ],
   "execution_count": 200
  },
  {
   "cell_type": "code",
   "id": "3c39ed33",
   "metadata": {
    "ExecuteTime": {
     "end_time": "2024-08-30T05:44:43.718366Z",
     "start_time": "2024-08-30T05:44:38.571064Z"
    }
   },
   "source": "",
   "outputs": [],
   "execution_count": 117
  }
 ],
 "metadata": {
  "kernelspec": {
   "display_name": "Python 3.11.1 64-bit",
   "language": "python",
   "name": "python3"
  },
  "language_info": {
   "codemirror_mode": {
    "name": "ipython",
    "version": 3
   },
   "file_extension": ".py",
   "mimetype": "text/x-python",
   "name": "python",
   "nbconvert_exporter": "python",
   "pygments_lexer": "ipython3",
   "version": "3.10.12"
  },
  "vscode": {
   "interpreter": {
    "hash": "e971737741ff4ec9aff7dc6155a1060a59a8a6d52c757dbbe66bf8ee389494b1"
   }
  }
 },
 "nbformat": 4,
 "nbformat_minor": 5
}
